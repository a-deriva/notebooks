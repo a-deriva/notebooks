{
  "nbformat": 4,
  "nbformat_minor": 0,
  "metadata": {
    "colab": {
      "name": "asteroide_original.ipynb",
      "provenance": [],
      "authorship_tag": "ABX9TyO4DtGt/ppKyVIoT1c1NeKG",
      "include_colab_link": true
    },
    "kernelspec": {
      "name": "python3",
      "display_name": "Python 3"
    },
    "language_info": {
      "name": "python"
    }
  },
  "cells": [
    {
      "cell_type": "markdown",
      "metadata": {
        "id": "view-in-github",
        "colab_type": "text"
      },
      "source": [
        "<a href=\"https://colab.research.google.com/github/a-deriva/asteroide/blob/main/asteroide_original.ipynb\" target=\"_parent\"><img src=\"https://colab.research.google.com/assets/colab-badge.svg\" alt=\"Open In Colab\"/></a>"
      ]
    },
    {
      "cell_type": "code",
      "metadata": {
        "id": "rxQ9-mnvqLs5"
      },
      "source": [
        "import numpy as np\n",
        "import matplotlib.pyplot as plt\n",
        "import pandas as pd\n",
        "import time"
      ],
      "execution_count": null,
      "outputs": []
    },
    {
      "cell_type": "code",
      "metadata": {
        "id": "Ki5P6iCDqbLV"
      },
      "source": [
        "plt.style.use('dark_background')\n",
        "plt.rc('font', size=15)"
      ],
      "execution_count": null,
      "outputs": []
    },
    {
      "cell_type": "code",
      "metadata": {
        "id": "zngJ0cC3zvqC"
      },
      "source": [
        "data = pd.read_csv('asteroid_data.txt', sep=',')\n",
        "data"
      ],
      "execution_count": null,
      "outputs": []
    },
    {
      "cell_type": "code",
      "metadata": {
        "id": "bRIcowtv4Do2"
      },
      "source": [
        "fig = plt.figure(figsize=[10, 8])\n",
        "ax = fig.add_subplot(111, projection='polar')\n",
        "ax.scatter(data['angle [deg]'] * np.pi / 180, data['dist [AU]'], color='#FF9600', s=15)\n",
        "\n",
        "theta = np.linspace(0, 2 * np.pi, 1000)\n",
        "r_T = 1\n",
        "\n",
        "ax.plot(theta, np.repeat(r_T, 1000), color='blue')\n",
        "ax.scatter(0, 0, marker='o', color='yellow', s=100)\n",
        "\n",
        "plt.show()"
      ],
      "execution_count": null,
      "outputs": []
    },
    {
      "cell_type": "markdown",
      "metadata": {
        "id": "B7TyQVlYAwIe"
      },
      "source": [
        "$$\\chi^2=\\sum_{i=1}^n\\left(\\dfrac{r_{obs}-r_{modelo}}{\\sigma_{obs}}\\right)^2$$\n",
        "$$r_{modelo}=\\dfrac{a(1-e^2)}{1+e\\cos\\theta},\\ e=\\dfrac{\\sqrt{a^2-b^2}}{a}$$"
      ]
    },
    {
      "cell_type": "code",
      "metadata": {
        "id": "NzFVI3NCyt4Y"
      },
      "source": [
        "def chi2_polar(theta_obs, r_obs, r_err, ai_guess, af_guess, bi_guess, bf_guess, steps, precision):\n",
        "  start = time.time()\n",
        "  iteration = 0\n",
        "  while((af_guess - ai_guess) / np.mean([ai_guess, af_guess]) >= precision) and ((bf_guess - bi_guess) / np.mean([bi_guess, bf_guess]) >= precision):\n",
        "    chi2 = np.zeros(shape = (steps, steps))\n",
        "    a_tests = np.linspace(ai_guess, af_guess, steps)\n",
        "    b_tests = np.linspace(bi_guess, bf_guess, steps)\n",
        "    for i in range(steps):\n",
        "      for j in range(steps):\n",
        "        e = np.sqrt(a_tests[i]**2 - b_tests[j]**2) / a_tests[i]\n",
        "        chi2[i][j] = np.sum(((r_obs - (a_tests[i] * (1 - e**2) / (1 + e * np.cos(theta_obs)))) / r_err)**2)\n",
        "    a_min_pos = np.where(chi2 == np.min(chi2))[0][0]\n",
        "    a_value = a_tests[a_min_pos]\n",
        "    ai_guess = a_value - 0.2 * a_value / (iteration + 1)\n",
        "    af_guess = a_value + 0.2 * a_value / (iteration + 1)\n",
        "    b_min_pos = np.where(chi2 == np.min(chi2))[1][0]\n",
        "    b_value = b_tests[b_min_pos]\n",
        "    bi_guess = b_value - 0.2 * b_value / (iteration + 1)\n",
        "    bf_guess = b_value + 0.2 * b_value / (iteration + 1)\n",
        "    print('Valores ajustados: a = ' + str(a_value) + ', b = ' + str(b_value))\n",
        "    iteration += 1\n",
        "  end = time.time()\n",
        "  print('Tempo de computação: ' + str(end-start) + ' segundos; com ' + str(100*precision) + '%' + ' de precisão, ' + str(iteration) + ' iterações e ' + str(iteration*steps**2) + ' elipses testadas.')\n",
        "  return [a_value, b_value]"
      ],
      "execution_count": null,
      "outputs": []
    },
    {
      "cell_type": "code",
      "metadata": {
        "id": "RL47-seBQcmf"
      },
      "source": [
        "a, b = chi2_polar(data['angle [deg]'] * np.pi / 180, data['dist [AU]'], data['dist_err [AU]'], 1, 3, .2, 1, 20, .01)"
      ],
      "execution_count": null,
      "outputs": []
    },
    {
      "cell_type": "code",
      "metadata": {
        "id": "p10sZ3NFZRAf"
      },
      "source": [
        "fig = plt.figure(figsize=[10, 8])\n",
        "ax = fig.add_subplot(111, projection='polar')\n",
        "ax.scatter(data['angle [deg]'] * np.pi / 180, data['dist [AU]'], color='#FF9600', s=15)\n",
        "\n",
        "theta = np.linspace(0, 2 * np.pi, 1000)\n",
        "r_T = 1\n",
        "\n",
        "ax.plot(theta, np.repeat(r_T, 1000), color='blue')\n",
        "ax.scatter(0, 0, marker='o', color='yellow', s=100)\n",
        "\n",
        "e = np.sqrt(a ** 2 - b ** 2) / a\n",
        "r = a * (1 - e ** 2) / (1 + e * np.cos(theta))\n",
        "ax.plot(theta, r, color='red')\n",
        "\n",
        "e1 = np.sqrt((a + 0.05 * a) ** 2 - (b + 0.05 * b) ** 2) / (a + 0.05 * a) \n",
        "r1 = (a + 0.05 * a) * (1 - e1 ** 2) / (1 + e1 * np.cos(theta))\n",
        "e2 = np.sqrt((a - 0.05 * a) ** 2 - (b - 0.05 * b) ** 2) / (a - 0.05 * a)\n",
        "r2 = (a - 0.05 * a) * (1 - e2 ** 2) / (1 + e2 * np.cos(theta))\n",
        "\n",
        "ax.fill_between(theta, r1, r2, alpha = 0.2, color='red')\n",
        "\n",
        "plt.show()"
      ],
      "execution_count": null,
      "outputs": []
    }
  ]
}